{
 "cells": [
  {
   "cell_type": "markdown",
   "id": "a33f1629-e8e9-4d86-b096-7ce20bb32a8c",
   "metadata": {},
   "source": [
    " # Term Project: Compress a Pretrained Model on CIFAR10 Dataset\n",
    " ## Required Libraries & Versions"
   ]
  },
  {
   "cell_type": "code",
   "execution_count": 1,
   "id": "a193c498-6be7-4464-9cb2-9ea2022efdd4",
   "metadata": {},
   "outputs": [],
   "source": [
    "import numpy as np\n",
    "import torch\n",
    "import torch.nn.utils.prune as prune\n",
    "import torchvision\n",
    "import os\n",
    "import matplotlib\n",
    "import matplotlib.pyplot as plt\n",
    "import pandas as pd\n",
    "from torchsummary import summary\n",
    "import tqdm\n",
    "from timeit import default_timer as timer\n",
    "import copy\n",
    "\n",
    "ROOT = os.getcwd()\n"
   ]
  },
  {
   "cell_type": "code",
   "execution_count": 2,
   "id": "af4d443a-dc1d-417f-95ee-099a418f7bc3",
   "metadata": {},
   "outputs": [
    {
     "name": "stdout",
     "output_type": "stream",
     "text": [
      "numpy : 1.22.0\n",
      "torch : 1.10.1\n",
      "torchvision : 0.11.2\n",
      "matplotlib : 3.5.1\n",
      "pandas : 1.3.5\n",
      "tqdm  : 4.62.3\n"
     ]
    }
   ],
   "source": [
    "print('numpy :',np.__version__)\n",
    "print('torch :',torch.__version__)\n",
    "print('torchvision :',torchvision.__version__)\n",
    "print('matplotlib :',matplotlib.__version__)\n",
    "print('pandas :',pd.__version__)\n",
    "print('tqdm  :',tqdm.__version__)\n"
   ]
  },
  {
   "cell_type": "markdown",
   "id": "7df28687-97e0-4b04-a6c4-4f6aa48f4798",
   "metadata": {},
   "source": [
    "## Hardware Specs"
   ]
  },
  {
   "cell_type": "code",
   "execution_count": 3,
   "id": "5ba045a9-0c70-4373-b6a2-77e9f1731850",
   "metadata": {},
   "outputs": [
    {
     "data": {
      "text/plain": [
       "{'platform': 'Linux',\n",
       " 'platform-release': '5.4.0-96-generic',\n",
       " 'platform-version': '#109~18.04.1-Ubuntu SMP Thu Jan 13 15:06:26 UTC 2022',\n",
       " 'architecture': 'x86_64',\n",
       " 'hostname': 'cagnur-G3-3500',\n",
       " 'ip-address': '127.0.1.1',\n",
       " 'processor': 'x86_64',\n",
       " 'ram': '15 GB'}"
      ]
     },
     "execution_count": 3,
     "metadata": {},
     "output_type": "execute_result"
    }
   ],
   "source": [
    "import platform,socket,re,uuid,json,psutil,logging\n",
    "\n",
    "def getSystemInfo():\n",
    "    try:\n",
    "        info={}\n",
    "        info['platform']=platform.system()\n",
    "        info['platform-release']=platform.release()\n",
    "        info['platform-version']=platform.version()\n",
    "        info['architecture']=platform.machine()\n",
    "        info['hostname']=socket.gethostname()\n",
    "        info['ip-address']=socket.gethostbyname(socket.gethostname())\n",
    "        # info['mac-address']=':'.join(re.findall('..', '%012x' % uuid.getnode()))\n",
    "        info['processor']=platform.processor()\n",
    "        info['ram']=str(round(psutil.virtual_memory().total / (1024.0 **3)))+\" GB\"\n",
    "        return json.dumps(info)\n",
    "    except Exception as e:\n",
    "        logging.exception(e)\n",
    "\n",
    "json.loads(getSystemInfo())\n"
   ]
  },
  {
   "cell_type": "code",
   "execution_count": 4,
   "id": "fcd99441-d3d1-44eb-aaed-016108e76131",
   "metadata": {},
   "outputs": [
    {
     "name": "stdout",
     "output_type": "stream",
     "text": [
      "True\n",
      "GeForce GTX 1650 Ti\n"
     ]
    }
   ],
   "source": [
    "print(torch.cuda.is_available())\n",
    "print(torch.cuda.get_device_name(0))"
   ]
  },
  {
   "cell_type": "markdown",
   "id": "7f847e19-6b61-499d-a0ec-63cf7dfb71df",
   "metadata": {},
   "source": [
    "### Set CPU \n",
    "As we need CPU Inference time, set to CPU "
   ]
  },
  {
   "cell_type": "code",
   "execution_count": 5,
   "id": "cfb004a1-90a5-4b92-8c35-77b1bd5c437e",
   "metadata": {},
   "outputs": [
    {
     "name": "stdout",
     "output_type": "stream",
     "text": [
      "cpu\n"
     ]
    }
   ],
   "source": [
    "device =torch.device(\"cpu\")\n",
    "print(device)"
   ]
  },
  {
   "cell_type": "markdown",
   "id": "defe5fc6-1a9c-42b5-bfd1-36448e9a7ffc",
   "metadata": {
    "tags": []
   },
   "source": [
    "## Uncompressed Model\n",
    "We will use pretrained model from Ref 1, https://github.com/huyvnphan/PyTorch_CIFAR10"
   ]
  },
  {
   "cell_type": "code",
   "execution_count": 6,
   "id": "330182d1-e889-417d-83f1-a173543b1762",
   "metadata": {
    "tags": []
   },
   "outputs": [],
   "source": [
    "MODEL_PATH = os.path.join(ROOT, 'PyTorch_CIFAR10-master')\n",
    "os.chdir(MODEL_PATH)\n",
    "from cifar10_models.googlenet import googlenet"
   ]
  },
  {
   "cell_type": "code",
   "execution_count": 7,
   "id": "9412ef98-6ecc-46cf-ad9c-607cbc6f77f5",
   "metadata": {},
   "outputs": [
    {
     "data": {
      "text/plain": [
       "'/home/cagnur/Desktop/MMI7/Term_Project/PyTorch_CIFAR10-master'"
      ]
     },
     "execution_count": 7,
     "metadata": {},
     "output_type": "execute_result"
    }
   ],
   "source": [
    "os.getcwd()"
   ]
  },
  {
   "cell_type": "code",
   "execution_count": 8,
   "id": "be759029-cad8-468d-ac07-3b1d24dd8e60",
   "metadata": {},
   "outputs": [],
   "source": [
    "uncompressed_model =  googlenet(pretrained=True)\n",
    "# uncompressed_model = pretrained_model.to(device=device)"
   ]
  },
  {
   "cell_type": "markdown",
   "id": "d906d382-213f-418f-803b-5ce608d64935",
   "metadata": {},
   "source": [
    "### Model Size"
   ]
  },
  {
   "cell_type": "code",
   "execution_count": 9,
   "id": "6d40151a-91bf-4150-87ff-980e6f21ffc2",
   "metadata": {
    "scrolled": true,
    "tags": []
   },
   "outputs": [
    {
     "name": "stdout",
     "output_type": "stream",
     "text": [
      "==========================================================================================\n",
      "Layer (type:depth-idx)                   Output Shape              Param #\n",
      "==========================================================================================\n",
      "├─BasicConv2d: 1-1                       [-1, 192, 32, 32]         --\n",
      "|    └─Conv2d: 2-1                       [-1, 192, 32, 32]         5,184\n",
      "|    └─BatchNorm2d: 2-2                  [-1, 192, 32, 32]         384\n",
      "├─Inception: 1-2                         [-1, 256, 32, 32]         --\n",
      "|    └─BasicConv2d: 2-3                  [-1, 64, 32, 32]          --\n",
      "|    |    └─Conv2d: 3-1                  [-1, 64, 32, 32]          12,288\n",
      "|    |    └─BatchNorm2d: 3-2             [-1, 64, 32, 32]          128\n",
      "|    └─Sequential: 2-4                   [-1, 128, 32, 32]         --\n",
      "|    |    └─BasicConv2d: 3-3             [-1, 96, 32, 32]          18,624\n",
      "|    |    └─BasicConv2d: 3-4             [-1, 128, 32, 32]         110,848\n",
      "|    └─Sequential: 2-5                   [-1, 32, 32, 32]          --\n",
      "|    |    └─BasicConv2d: 3-5             [-1, 16, 32, 32]          3,104\n",
      "|    |    └─BasicConv2d: 3-6             [-1, 32, 32, 32]          4,672\n",
      "|    └─Sequential: 2-6                   [-1, 32, 32, 32]          --\n",
      "|    |    └─MaxPool2d: 3-7               [-1, 192, 32, 32]         --\n",
      "|    |    └─BasicConv2d: 3-8             [-1, 32, 32, 32]          6,208\n",
      "├─Inception: 1-3                         [-1, 480, 32, 32]         --\n",
      "|    └─BasicConv2d: 2-7                  [-1, 128, 32, 32]         --\n",
      "|    |    └─Conv2d: 3-9                  [-1, 128, 32, 32]         32,768\n",
      "|    |    └─BatchNorm2d: 3-10            [-1, 128, 32, 32]         256\n",
      "|    └─Sequential: 2-8                   [-1, 192, 32, 32]         --\n",
      "|    |    └─BasicConv2d: 3-11            [-1, 128, 32, 32]         33,024\n",
      "|    |    └─BasicConv2d: 3-12            [-1, 192, 32, 32]         221,568\n",
      "|    └─Sequential: 2-9                   [-1, 96, 32, 32]          --\n",
      "|    |    └─BasicConv2d: 3-13            [-1, 32, 32, 32]          8,256\n",
      "|    |    └─BasicConv2d: 3-14            [-1, 96, 32, 32]          27,840\n",
      "|    └─Sequential: 2-10                  [-1, 64, 32, 32]          --\n",
      "|    |    └─MaxPool2d: 3-15              [-1, 256, 32, 32]         --\n",
      "|    |    └─BasicConv2d: 3-16            [-1, 64, 32, 32]          16,512\n",
      "├─MaxPool2d: 1-4                         [-1, 480, 16, 16]         --\n",
      "├─Inception: 1-5                         [-1, 512, 16, 16]         --\n",
      "|    └─BasicConv2d: 2-11                 [-1, 192, 16, 16]         --\n",
      "|    |    └─Conv2d: 3-17                 [-1, 192, 16, 16]         92,160\n",
      "|    |    └─BatchNorm2d: 3-18            [-1, 192, 16, 16]         384\n",
      "|    └─Sequential: 2-12                  [-1, 208, 16, 16]         --\n",
      "|    |    └─BasicConv2d: 3-19            [-1, 96, 16, 16]          46,272\n",
      "|    |    └─BasicConv2d: 3-20            [-1, 208, 16, 16]         180,128\n",
      "|    └─Sequential: 2-13                  [-1, 48, 16, 16]          --\n",
      "|    |    └─BasicConv2d: 3-21            [-1, 16, 16, 16]          7,712\n",
      "|    |    └─BasicConv2d: 3-22            [-1, 48, 16, 16]          7,008\n",
      "|    └─Sequential: 2-14                  [-1, 64, 16, 16]          --\n",
      "|    |    └─MaxPool2d: 3-23              [-1, 480, 16, 16]         --\n",
      "|    |    └─BasicConv2d: 3-24            [-1, 64, 16, 16]          30,848\n",
      "├─Inception: 1-6                         [-1, 512, 16, 16]         --\n",
      "|    └─BasicConv2d: 2-15                 [-1, 160, 16, 16]         --\n",
      "|    |    └─Conv2d: 3-25                 [-1, 160, 16, 16]         81,920\n",
      "|    |    └─BatchNorm2d: 3-26            [-1, 160, 16, 16]         320\n",
      "|    └─Sequential: 2-16                  [-1, 224, 16, 16]         --\n",
      "|    |    └─BasicConv2d: 3-27            [-1, 112, 16, 16]         57,568\n",
      "|    |    └─BasicConv2d: 3-28            [-1, 224, 16, 16]         226,240\n",
      "|    └─Sequential: 2-17                  [-1, 64, 16, 16]          --\n",
      "|    |    └─BasicConv2d: 3-29            [-1, 24, 16, 16]          12,336\n",
      "|    |    └─BasicConv2d: 3-30            [-1, 64, 16, 16]          13,952\n",
      "|    └─Sequential: 2-18                  [-1, 64, 16, 16]          --\n",
      "|    |    └─MaxPool2d: 3-31              [-1, 512, 16, 16]         --\n",
      "|    |    └─BasicConv2d: 3-32            [-1, 64, 16, 16]          32,896\n",
      "├─Inception: 1-7                         [-1, 512, 16, 16]         --\n",
      "|    └─BasicConv2d: 2-19                 [-1, 128, 16, 16]         --\n",
      "|    |    └─Conv2d: 3-33                 [-1, 128, 16, 16]         65,536\n",
      "|    |    └─BatchNorm2d: 3-34            [-1, 128, 16, 16]         256\n",
      "|    └─Sequential: 2-20                  [-1, 256, 16, 16]         --\n",
      "|    |    └─BasicConv2d: 3-35            [-1, 128, 16, 16]         65,792\n",
      "|    |    └─BasicConv2d: 3-36            [-1, 256, 16, 16]         295,424\n",
      "|    └─Sequential: 2-21                  [-1, 64, 16, 16]          --\n",
      "|    |    └─BasicConv2d: 3-37            [-1, 24, 16, 16]          12,336\n",
      "|    |    └─BasicConv2d: 3-38            [-1, 64, 16, 16]          13,952\n",
      "|    └─Sequential: 2-22                  [-1, 64, 16, 16]          --\n",
      "|    |    └─MaxPool2d: 3-39              [-1, 512, 16, 16]         --\n",
      "|    |    └─BasicConv2d: 3-40            [-1, 64, 16, 16]          32,896\n",
      "├─Inception: 1-8                         [-1, 528, 16, 16]         --\n",
      "|    └─BasicConv2d: 2-23                 [-1, 112, 16, 16]         --\n",
      "|    |    └─Conv2d: 3-41                 [-1, 112, 16, 16]         57,344\n",
      "|    |    └─BatchNorm2d: 3-42            [-1, 112, 16, 16]         224\n",
      "|    └─Sequential: 2-24                  [-1, 288, 16, 16]         --\n",
      "|    |    └─BasicConv2d: 3-43            [-1, 144, 16, 16]         74,016\n",
      "|    |    └─BasicConv2d: 3-44            [-1, 288, 16, 16]         373,824\n",
      "|    └─Sequential: 2-25                  [-1, 64, 16, 16]          --\n",
      "|    |    └─BasicConv2d: 3-45            [-1, 32, 16, 16]          16,448\n",
      "|    |    └─BasicConv2d: 3-46            [-1, 64, 16, 16]          18,560\n",
      "|    └─Sequential: 2-26                  [-1, 64, 16, 16]          --\n",
      "|    |    └─MaxPool2d: 3-47              [-1, 512, 16, 16]         --\n",
      "|    |    └─BasicConv2d: 3-48            [-1, 64, 16, 16]          32,896\n",
      "├─Inception: 1-9                         [-1, 832, 16, 16]         --\n",
      "|    └─BasicConv2d: 2-27                 [-1, 256, 16, 16]         --\n",
      "|    |    └─Conv2d: 3-49                 [-1, 256, 16, 16]         135,168\n",
      "|    |    └─BatchNorm2d: 3-50            [-1, 256, 16, 16]         512\n",
      "|    └─Sequential: 2-28                  [-1, 320, 16, 16]         --\n",
      "|    |    └─BasicConv2d: 3-51            [-1, 160, 16, 16]         84,800\n",
      "|    |    └─BasicConv2d: 3-52            [-1, 320, 16, 16]         461,440\n",
      "|    └─Sequential: 2-29                  [-1, 128, 16, 16]         --\n",
      "|    |    └─BasicConv2d: 3-53            [-1, 32, 16, 16]          16,960\n",
      "|    |    └─BasicConv2d: 3-54            [-1, 128, 16, 16]         37,120\n",
      "|    └─Sequential: 2-30                  [-1, 128, 16, 16]         --\n",
      "|    |    └─MaxPool2d: 3-55              [-1, 528, 16, 16]         --\n",
      "|    |    └─BasicConv2d: 3-56            [-1, 128, 16, 16]         67,840\n",
      "├─MaxPool2d: 1-10                        [-1, 832, 8, 8]           --\n",
      "├─Inception: 1-11                        [-1, 832, 8, 8]           --\n",
      "|    └─BasicConv2d: 2-31                 [-1, 256, 8, 8]           --\n",
      "|    |    └─Conv2d: 3-57                 [-1, 256, 8, 8]           212,992\n",
      "|    |    └─BatchNorm2d: 3-58            [-1, 256, 8, 8]           512\n",
      "|    └─Sequential: 2-32                  [-1, 320, 8, 8]           --\n",
      "|    |    └─BasicConv2d: 3-59            [-1, 160, 8, 8]           133,440\n",
      "|    |    └─BasicConv2d: 3-60            [-1, 320, 8, 8]           461,440\n",
      "|    └─Sequential: 2-33                  [-1, 128, 8, 8]           --\n",
      "|    |    └─BasicConv2d: 3-61            [-1, 32, 8, 8]            26,688\n",
      "|    |    └─BasicConv2d: 3-62            [-1, 128, 8, 8]           37,120\n",
      "|    └─Sequential: 2-34                  [-1, 128, 8, 8]           --\n",
      "|    |    └─MaxPool2d: 3-63              [-1, 832, 8, 8]           --\n",
      "|    |    └─BasicConv2d: 3-64            [-1, 128, 8, 8]           106,752\n",
      "├─Inception: 1-12                        [-1, 1024, 8, 8]          --\n",
      "|    └─BasicConv2d: 2-35                 [-1, 384, 8, 8]           --\n",
      "|    |    └─Conv2d: 3-65                 [-1, 384, 8, 8]           319,488\n",
      "|    |    └─BatchNorm2d: 3-66            [-1, 384, 8, 8]           768\n",
      "|    └─Sequential: 2-36                  [-1, 384, 8, 8]           --\n",
      "|    |    └─BasicConv2d: 3-67            [-1, 192, 8, 8]           160,128\n",
      "|    |    └─BasicConv2d: 3-68            [-1, 384, 8, 8]           664,320\n",
      "|    └─Sequential: 2-37                  [-1, 128, 8, 8]           --\n",
      "|    |    └─BasicConv2d: 3-69            [-1, 48, 8, 8]            40,032\n",
      "|    |    └─BasicConv2d: 3-70            [-1, 128, 8, 8]           55,552\n",
      "|    └─Sequential: 2-38                  [-1, 128, 8, 8]           --\n",
      "|    |    └─MaxPool2d: 3-71              [-1, 832, 8, 8]           --\n",
      "|    |    └─BasicConv2d: 3-72            [-1, 128, 8, 8]           106,752\n",
      "├─AdaptiveAvgPool2d: 1-13                [-1, 1024, 1, 1]          --\n",
      "├─Dropout: 1-14                          [-1, 1024]                --\n",
      "├─Linear: 1-15                           [-1, 10]                  10,250\n",
      "==========================================================================================\n",
      "Total params: 5,490,986\n",
      "Trainable params: 5,490,986\n",
      "Non-trainable params: 0\n",
      "Total mult-adds (G): 1.35\n",
      "==========================================================================================\n",
      "Input size (MB): 0.01\n",
      "Forward/backward pass size (MB): 35.30\n",
      "Params size (MB): 20.95\n",
      "Estimated Total Size (MB): 56.26\n",
      "==========================================================================================\n",
      "20M\t/tmp/uncompressed.h5.gz\n"
     ]
    }
   ],
   "source": [
    "os.chdir(ROOT)\n",
    "summary(uncompressed_model, (3,32,32))\n",
    "torch.save(uncompressed_model.state_dict(), \"/tmp/uncompressed.h5\")\n",
    "\n",
    "!gzip -qf /tmp/uncompressed.h5\n",
    "!du -h /tmp/uncompressed.h5.gz"
   ]
  },
  {
   "cell_type": "markdown",
   "id": "5107db72-df0f-4810-8402-6466c9ed658d",
   "metadata": {},
   "source": [
    ">The results are consistent with the Ref 1: It states that the number of parameters is 5.491 M and the parameter size is 22MB"
   ]
  },
  {
   "cell_type": "markdown",
   "id": "4816363b-458f-401f-8ef8-713fda81ce82",
   "metadata": {},
   "source": [
    "## Compressed Model\n",
    "We will use Pytroch pruning. The listed pages help me to construct the following cell:\n",
    "* https://pytorch.org/tutorials/intermediate/pruning_tutorial.html\n",
    "* https://spell.ml/blog/model-pruning-in-pytorch-X9pXQRAAACIAcH9h\n",
    "* https://intellabs.github.io/distiller/tutorial-lang_model.html#using-distiller-to-prune-a-pytorch-language-model\n"
   ]
  },
  {
   "cell_type": "code",
   "execution_count": 10,
   "id": "44ed3ee3-c853-405d-a161-6b49e2a344f2",
   "metadata": {
    "scrolled": true,
    "tags": []
   },
   "outputs": [],
   "source": [
    "def prune_model_l1_unstructured(model, layer_type, proportion):\n",
    "    for module_name, module in model.named_modules():\n",
    "        if isinstance(module, torch.nn.Conv2d):\n",
    "            # print(module)\n",
    "            prune.l1_unstructured(module, 'weight', proportion)\n",
    "            prune.remove(module, 'weight')\n",
    "    return model\n",
    "def prune_model_l1_structured(model, layer_type, proportion):\n",
    "    for module_name, module in model.named_modules():\n",
    "        if isinstance(module, torch.nn.Conv2d):\n",
    "            prune.ln_structured(module, 'weight', proportion, n=1, dim=1)\n",
    "            prune.remove(module, 'weight')\n",
    "    return model\n",
    "\n",
    "\n",
    "compressed_0p1_model =  prune_model_l1_unstructured(copy.deepcopy(uncompressed_model), torch.nn.Conv2d, 0.1)\n",
    "compressed_0p3_model =  prune_model_l1_unstructured(copy.deepcopy(uncompressed_model), torch.nn.Conv2d, 0.3)\n",
    "compressed_0p5_model =  prune_model_l1_unstructured(copy.deepcopy(uncompressed_model), torch.nn.Conv2d, 0.5)\n",
    "compressed_0p7_model =  prune_model_l1_unstructured(copy.deepcopy(uncompressed_model), torch.nn.Conv2d, 0.7)\n",
    "compressed_0p9_model =  prune_model_l1_unstructured(copy.deepcopy(uncompressed_model), torch.nn.Conv2d, 0.9)\n",
    "\n",
    "compressed_0p1_structured_model =  prune_model_l1_structured(copy.deepcopy(uncompressed_model), torch.nn.Conv2d, 0.1)\n",
    "compressed_0p3_structured_model =  prune_model_l1_structured(copy.deepcopy(uncompressed_model), torch.nn.Conv2d, 0.3)\n",
    "compressed_0p5_structured_model =  prune_model_l1_structured(copy.deepcopy(uncompressed_model), torch.nn.Conv2d, 0.5)\n",
    "compressed_0p7_structured_model =  prune_model_l1_structured(copy.deepcopy(uncompressed_model), torch.nn.Conv2d, 0.7)\n",
    "compressed_0p9_structured_model =  prune_model_l1_structured(copy.deepcopy(uncompressed_model), torch.nn.Conv2d, 0.9)\n"
   ]
  },
  {
   "cell_type": "code",
   "execution_count": 11,
   "id": "2fe55bff-7fa1-47fd-a9b4-d7e38f82f42d",
   "metadata": {},
   "outputs": [
    {
     "name": "stdout",
     "output_type": "stream",
     "text": [
      "19M\t/tmp/compressed_0p1_model.h5.gz\n"
     ]
    }
   ],
   "source": [
    "torch.save(compressed_0p1_model.state_dict(), \"/tmp/compressed_0p1_model.h5\")\n",
    "\n",
    "!gzip -qf /tmp/compressed_0p1_model.h5\n",
    "!du -h /tmp/compressed_0p1_model.h5.gz"
   ]
  },
  {
   "cell_type": "code",
   "execution_count": 12,
   "id": "b7cb9fb6-2aa6-469f-ba6c-c9059913c6b2",
   "metadata": {},
   "outputs": [
    {
     "name": "stdout",
     "output_type": "stream",
     "text": [
      "16M\t/tmp/compressed_0p3_model.h5.gz\n"
     ]
    }
   ],
   "source": [
    "torch.save(compressed_0p3_model.state_dict(), \"/tmp/compressed_0p3_model.h5\")\n",
    "\n",
    "!gzip -qf /tmp/compressed_0p3_model.h5\n",
    "!du -h /tmp/compressed_0p3_model.h5.gz"
   ]
  },
  {
   "cell_type": "code",
   "execution_count": 13,
   "id": "ab8995c0-1e46-40eb-8fff-fab8beed7580",
   "metadata": {},
   "outputs": [
    {
     "name": "stdout",
     "output_type": "stream",
     "text": [
      "12M\t/tmp/compressed_0p5_model.h5.gz\n"
     ]
    }
   ],
   "source": [
    "torch.save(compressed_0p5_model.state_dict(), \"/tmp/compressed_0p5_model.h5\")\n",
    "\n",
    "!gzip -qf /tmp/compressed_0p5_model.h5\n",
    "!du -h /tmp/compressed_0p5_model.h5.gz"
   ]
  },
  {
   "cell_type": "code",
   "execution_count": 14,
   "id": "622112e5-3e89-4716-85bd-a4378e4dc9a0",
   "metadata": {},
   "outputs": [
    {
     "name": "stdout",
     "output_type": "stream",
     "text": [
      "7,9M\t/tmp/compressed_0p7_model.h5.gz\n"
     ]
    }
   ],
   "source": [
    "torch.save(compressed_0p7_model.state_dict(), \"/tmp/compressed_0p7_model.h5\")\n",
    "\n",
    "!gzip -qf /tmp/compressed_0p7_model.h5\n",
    "!du -h /tmp/compressed_0p7_model.h5.gz"
   ]
  },
  {
   "cell_type": "code",
   "execution_count": 15,
   "id": "e644b45c-0f7e-4103-bdc8-9912cce3946c",
   "metadata": {},
   "outputs": [
    {
     "name": "stdout",
     "output_type": "stream",
     "text": [
      "3,8M\t/tmp/compressed_0p9_model.h5.gz\n"
     ]
    }
   ],
   "source": [
    "torch.save(compressed_0p9_model.state_dict(), \"/tmp/compressed_0p9_model.h5\")\n",
    "\n",
    "!gzip -qf /tmp/compressed_0p9_model.h5\n",
    "!du -h /tmp/compressed_0p9_model.h5.gz"
   ]
  },
  {
   "cell_type": "code",
   "execution_count": 16,
   "id": "9105e45e-8aeb-421e-96ee-f66ba7878858",
   "metadata": {},
   "outputs": [
    {
     "name": "stdout",
     "output_type": "stream",
     "text": [
      "19M\t/tmp/compressed_0p1_structured_model.h5.gz\n"
     ]
    }
   ],
   "source": [
    "torch.save(compressed_0p1_structured_model.state_dict(), \"/tmp/compressed_0p1_structured_model.h5\")\n",
    "\n",
    "!gzip -qf /tmp/compressed_0p1_structured_model.h5\n",
    "!du -h /tmp/compressed_0p1_structured_model.h5.gz"
   ]
  },
  {
   "cell_type": "code",
   "execution_count": 17,
   "id": "30fd81dc-5d96-46e5-ab47-0533a617cacd",
   "metadata": {},
   "outputs": [
    {
     "name": "stdout",
     "output_type": "stream",
     "text": [
      "15M\t/tmp/compressed_0p3_structured_model.h5.gz\n"
     ]
    }
   ],
   "source": [
    "torch.save(compressed_0p3_structured_model.state_dict(), \"/tmp/compressed_0p3_structured_model.h5\")\n",
    "\n",
    "!gzip -qf /tmp/compressed_0p3_structured_model.h5\n",
    "!du -h /tmp/compressed_0p3_structured_model.h5.gz"
   ]
  },
  {
   "cell_type": "code",
   "execution_count": 18,
   "id": "49c8b732-237e-4a3a-a3e5-b3ec7420f8a0",
   "metadata": {},
   "outputs": [
    {
     "name": "stdout",
     "output_type": "stream",
     "text": [
      "12M\t/tmp/compressed_0p5_structured_model.h5.gz\n"
     ]
    }
   ],
   "source": [
    "torch.save(compressed_0p5_structured_model.state_dict(), \"/tmp/compressed_0p5_structured_model.h5\")\n",
    "\n",
    "!gzip -qf /tmp/compressed_0p5_structured_model.h5\n",
    "!du -h /tmp/compressed_0p5_structured_model.h5.gz"
   ]
  },
  {
   "cell_type": "code",
   "execution_count": 19,
   "id": "73559695-44d5-455c-82aa-69e56e006654",
   "metadata": {},
   "outputs": [
    {
     "name": "stdout",
     "output_type": "stream",
     "text": [
      "7,8M\t/tmp/compressed_0p7_structured_model.h5.gz\n"
     ]
    }
   ],
   "source": [
    "torch.save(compressed_0p7_structured_model.state_dict(), \"/tmp/compressed_0p7_structured_model.h5\")\n",
    "\n",
    "!gzip -qf /tmp/compressed_0p7_structured_model.h5\n",
    "!du -h /tmp/compressed_0p7_structured_model.h5.gz"
   ]
  },
  {
   "cell_type": "code",
   "execution_count": 20,
   "id": "af52bb36-9449-4ad2-ad44-f64bbd406eda",
   "metadata": {},
   "outputs": [
    {
     "name": "stdout",
     "output_type": "stream",
     "text": [
      "3,7M\t/tmp/compressed_0p9_structured_model.h5.gz\n"
     ]
    }
   ],
   "source": [
    "torch.save(compressed_0p9_structured_model.state_dict(), \"/tmp/compressed_0p9_structured_model.h5\")\n",
    "\n",
    "!gzip -qf /tmp/compressed_0p9_structured_model.h5\n",
    "!du -h /tmp/compressed_0p9_structured_model.h5.gz"
   ]
  },
  {
   "cell_type": "code",
   "execution_count": 21,
   "id": "5c7a7ac9-caeb-4adf-9880-1e04f464f4db",
   "metadata": {},
   "outputs": [
    {
     "name": "stdout",
     "output_type": "stream",
     "text": [
      "Uncompressed Model Size is 20M\n",
      "Compressed Models' Size are in the following table where the unit is in 'M'\n"
     ]
    },
    {
     "data": {
      "text/html": [
       "<div>\n",
       "<style scoped>\n",
       "    .dataframe tbody tr th:only-of-type {\n",
       "        vertical-align: middle;\n",
       "    }\n",
       "\n",
       "    .dataframe tbody tr th {\n",
       "        vertical-align: top;\n",
       "    }\n",
       "\n",
       "    .dataframe thead th {\n",
       "        text-align: right;\n",
       "    }\n",
       "</style>\n",
       "<table border=\"1\" class=\"dataframe\">\n",
       "  <thead>\n",
       "    <tr style=\"text-align: right;\">\n",
       "      <th></th>\n",
       "      <th>l1_unstructed</th>\n",
       "      <th>l1_structed</th>\n",
       "    </tr>\n",
       "    <tr>\n",
       "      <th>Proportion</th>\n",
       "      <th></th>\n",
       "      <th></th>\n",
       "    </tr>\n",
       "  </thead>\n",
       "  <tbody>\n",
       "    <tr>\n",
       "      <th>0.1</th>\n",
       "      <td>19.0</td>\n",
       "      <td>19.0</td>\n",
       "    </tr>\n",
       "    <tr>\n",
       "      <th>0.3</th>\n",
       "      <td>16.0</td>\n",
       "      <td>15.0</td>\n",
       "    </tr>\n",
       "    <tr>\n",
       "      <th>0.5</th>\n",
       "      <td>12.0</td>\n",
       "      <td>12.0</td>\n",
       "    </tr>\n",
       "    <tr>\n",
       "      <th>0.7</th>\n",
       "      <td>7.9</td>\n",
       "      <td>7.8</td>\n",
       "    </tr>\n",
       "    <tr>\n",
       "      <th>0.9</th>\n",
       "      <td>3.8</td>\n",
       "      <td>3.7</td>\n",
       "    </tr>\n",
       "  </tbody>\n",
       "</table>\n",
       "</div>"
      ],
      "text/plain": [
       "            l1_unstructed  l1_structed\n",
       "Proportion                            \n",
       "0.1                  19.0         19.0\n",
       "0.3                  16.0         15.0\n",
       "0.5                  12.0         12.0\n",
       "0.7                   7.9          7.8\n",
       "0.9                   3.8          3.7"
      ]
     },
     "metadata": {},
     "output_type": "display_data"
    }
   ],
   "source": [
    "print('Uncompressed Model Size is 20M')\n",
    "print(\"Compressed Models' Size are in the following table where the unit is in 'M'\")\n",
    "model_size = {}\n",
    "model_size['Proportion'] = ['0.1','0.3','0.5','0.7','0.9']\n",
    "model_size['l1_unstructed'] = [19,16,12,7.9,3.8]\n",
    "model_size['l1_structed'] = [19,15,12,7.8,3.7]\n",
    "df = pd.DataFrame.from_dict(model_size, orient='columns').set_index('Proportion')\n",
    "display(df)\n"
   ]
  },
  {
   "cell_type": "markdown",
   "id": "70b9f051-88b5-4373-9298-a439601038fb",
   "metadata": {
    "tags": []
   },
   "source": [
    "## Data\n",
    "### Download\n",
    "Donwload CIFAR10 for training and test dataset  -> we will just use test dataset.\n",
    "The following operations are set according to PyTorch_CIFAR10 git repo\n",
    "* Mean and std values -> data.py -> init()\n",
    "* The transformations -> data.py -> val_dataloader() function\n",
    "* Batch size ->  train.py (It was 256, I changed with 32 because of \"CUDA OUT OF MEMORY .... \" error)\n",
    "* Num of workers -> train.py "
   ]
  },
  {
   "cell_type": "code",
   "execution_count": 22,
   "id": "deb0875f-dfcc-45d4-8fe3-c4edb1d6333f",
   "metadata": {},
   "outputs": [],
   "source": [
    "mean = (0.4914, 0.4822, 0.4465)\n",
    "std = (0.2471, 0.2435, 0.2616)\n",
    "transform = torchvision.transforms.Compose(\n",
    "            [\n",
    "                torchvision.transforms.ToTensor(),\n",
    "                torchvision.transforms.Normalize(mean, std),\n",
    "            ]\n",
    "            )\n",
    "BATCH = 32\n",
    "NUM_WORKERS = 8"
   ]
  },
  {
   "cell_type": "code",
   "execution_count": 23,
   "id": "3294516c-ba63-4474-bef1-ba1051781be1",
   "metadata": {},
   "outputs": [
    {
     "name": "stdout",
     "output_type": "stream",
     "text": [
      "Files already downloaded and verified\n",
      "Files already downloaded and verified\n"
     ]
    }
   ],
   "source": [
    "cifar10_train = torchvision.datasets.CIFAR10(root='CIFAR10/train', train= True, download= True, transform=transform)\n",
    "cifar10_test = torchvision.datasets.CIFAR10(root='CIFAR10/test', train= False, download= True, transform=transform)\n",
    "\n",
    "# train_loader = torch.utils.data.DataLoader(cifar10_train, batch_size=BATCH, shuffle=True, num_workers=NUM_WORKERS)\n",
    "test_loader = torch.utils.data.DataLoader(cifar10_test, batch_size=BATCH, shuffle=True, num_workers=NUM_WORKERS)"
   ]
  },
  {
   "cell_type": "markdown",
   "id": "4b42828b-3f7d-46be-be90-1870a81c51d1",
   "metadata": {
    "tags": []
   },
   "source": [
    "### Visualize\n",
    "Ref 2: https://stdworkflow.com/500/pytorch-cifar10-image-classification-data-loading-and-visualization"
   ]
  },
  {
   "cell_type": "code",
   "execution_count": 24,
   "id": "c8b2980f-6f83-4a43-b02c-b82d23441f5d",
   "metadata": {},
   "outputs": [
    {
     "data": {
      "text/html": [
       "<div>\n",
       "<style scoped>\n",
       "    .dataframe tbody tr th:only-of-type {\n",
       "        vertical-align: middle;\n",
       "    }\n",
       "\n",
       "    .dataframe tbody tr th {\n",
       "        vertical-align: top;\n",
       "    }\n",
       "\n",
       "    .dataframe thead th {\n",
       "        text-align: right;\n",
       "    }\n",
       "</style>\n",
       "<table border=\"1\" class=\"dataframe\">\n",
       "  <thead>\n",
       "    <tr style=\"text-align: right;\">\n",
       "      <th></th>\n",
       "      <th>Id</th>\n",
       "    </tr>\n",
       "  </thead>\n",
       "  <tbody>\n",
       "    <tr>\n",
       "      <th>airplane</th>\n",
       "      <td>0</td>\n",
       "    </tr>\n",
       "    <tr>\n",
       "      <th>automobile</th>\n",
       "      <td>1</td>\n",
       "    </tr>\n",
       "    <tr>\n",
       "      <th>bird</th>\n",
       "      <td>2</td>\n",
       "    </tr>\n",
       "    <tr>\n",
       "      <th>cat</th>\n",
       "      <td>3</td>\n",
       "    </tr>\n",
       "    <tr>\n",
       "      <th>deer</th>\n",
       "      <td>4</td>\n",
       "    </tr>\n",
       "    <tr>\n",
       "      <th>dog</th>\n",
       "      <td>5</td>\n",
       "    </tr>\n",
       "    <tr>\n",
       "      <th>frog</th>\n",
       "      <td>6</td>\n",
       "    </tr>\n",
       "    <tr>\n",
       "      <th>horse</th>\n",
       "      <td>7</td>\n",
       "    </tr>\n",
       "    <tr>\n",
       "      <th>ship</th>\n",
       "      <td>8</td>\n",
       "    </tr>\n",
       "    <tr>\n",
       "      <th>truck</th>\n",
       "      <td>9</td>\n",
       "    </tr>\n",
       "  </tbody>\n",
       "</table>\n",
       "</div>"
      ],
      "text/plain": [
       "            Id\n",
       "airplane     0\n",
       "automobile   1\n",
       "bird         2\n",
       "cat          3\n",
       "deer         4\n",
       "dog          5\n",
       "frog         6\n",
       "horse        7\n",
       "ship         8\n",
       "truck        9"
      ]
     },
     "metadata": {},
     "output_type": "display_data"
    }
   ],
   "source": [
    "df = pd.DataFrame.from_dict(data=cifar10_test.class_to_idx, columns=[ 'Id'], orient ='index' )\n",
    "display(df)"
   ]
  },
  {
   "cell_type": "code",
   "execution_count": 25,
   "id": "abb527c7-eae9-4e2e-9752-143d64552497",
   "metadata": {},
   "outputs": [
    {
     "data": {
      "text/html": [
       "<div>\n",
       "<style scoped>\n",
       "    .dataframe tbody tr th:only-of-type {\n",
       "        vertical-align: middle;\n",
       "    }\n",
       "\n",
       "    .dataframe tbody tr th {\n",
       "        vertical-align: top;\n",
       "    }\n",
       "\n",
       "    .dataframe thead th {\n",
       "        text-align: right;\n",
       "    }\n",
       "</style>\n",
       "<table border=\"1\" class=\"dataframe\">\n",
       "  <thead>\n",
       "    <tr style=\"text-align: right;\">\n",
       "      <th></th>\n",
       "      <th>Explanation</th>\n",
       "    </tr>\n",
       "  </thead>\n",
       "  <tbody>\n",
       "    <tr>\n",
       "      <th>Total training data</th>\n",
       "      <td>50000</td>\n",
       "    </tr>\n",
       "    <tr>\n",
       "      <th>Total test data</th>\n",
       "      <td>10000</td>\n",
       "    </tr>\n",
       "    <tr>\n",
       "      <th>Img Dimension</th>\n",
       "      <td>(32, 32, 3)</td>\n",
       "    </tr>\n",
       "  </tbody>\n",
       "</table>\n",
       "</div>"
      ],
      "text/plain": [
       "                     Explanation\n",
       "Total training data        50000\n",
       "Total test data            10000\n",
       "Img Dimension        (32, 32, 3)"
      ]
     },
     "metadata": {},
     "output_type": "display_data"
    }
   ],
   "source": [
    "dataset_info = { 'Total training data':cifar10_train.data.shape[0], 'Total test data': cifar10_test.data.shape[0], 'Img Dimension': cifar10_test.data.shape[1:]}\n",
    "display(pd.DataFrame.from_dict(dataset_info, orient='index', columns=['Explanation']))"
   ]
  },
  {
   "cell_type": "code",
   "execution_count": 26,
   "id": "f76cd88f-ebf6-43f9-87c8-ce22d2fc60bd",
   "metadata": {},
   "outputs": [
    {
     "name": "stderr",
     "output_type": "stream",
     "text": [
      "Clipping input data to the valid range for imshow with RGB data ([0..1] for floats or [0..255] for integers).\n"
     ]
    },
    {
     "data": {
      "image/png": "[encoded data removed]",
      "text/plain": [
       "<Figure size 576x864 with 1 Axes>"
      ]
     },
     "metadata": {
      "needs_background": "light"
     },
     "output_type": "display_data"
    }
   ],
   "source": [
    "def imshow(img):\n",
    "    img = img / 2 + 0.5\n",
    "    img = np.transpose(img.numpy(),(1,2,0))\n",
    "    plt.imshow(img)\n",
    "im,label = iter(test_loader).next()\n",
    "plt.figure(figsize=(8,12))\n",
    "imshow(torchvision.utils.make_grid(im[:32]))"
   ]
  },
  {
   "cell_type": "markdown",
   "id": "368e4e8f-ad65-4e17-8802-bc55ac0c2f1c",
   "metadata": {},
   "source": [
    "Check whether tensor uses cpu or gpu:"
   ]
  },
  {
   "cell_type": "code",
   "execution_count": 27,
   "id": "cb08c9ee-6274-4efd-a2d4-a3488b4d6f36",
   "metadata": {},
   "outputs": [
    {
     "name": "stdout",
     "output_type": "stream",
     "text": [
      "cpu\n"
     ]
    }
   ],
   "source": [
    "print(im.device)"
   ]
  },
  {
   "cell_type": "markdown",
   "id": "ef26a905-8aa3-487e-9600-e4e9398f0e05",
   "metadata": {},
   "source": [
    "## Comparison\n",
    "### Test Accuracy and CPU Inference Time\n",
    "Accuracy is straightforward. \n",
    "In order to understand what is CPU Inference time, I check the following pages:\n",
    "* https://github.com/facebookresearch/Detectron/issues/13#:~:text=Inference%20times%20are%20often%20expressed,reduced%20substantially%20with%20additional%20engineering.)\n",
    "* https://towardsdatascience.com/the-correct-way-to-measure-inference-time-of-deep-neural-networks-304a54e5187f\n",
    "* https://medium.com/huggingface/benchmarking-transformers-pytorch-and-tensorflow-e2917fb891c2#:~:text=Across%20all%20models%2C%20on%20CPU,inference%20time%20of%200.043s.\n",
    "* https://discuss.pytorch.org/t/how-to-measure-time-in-pytorch/26964\n",
    "* https://leimao.github.io/blog/PyTorch-Benchmark/#:~:text=The%20time%20stamp%20of%20events%20could%20be%20measured%20on%20CPU%20using%20implementations%20such%20as%20time%20or%20timeit%20in%20Python.%20It%20could%20also%20be%20measured%20on%20CUDA%20using%20CUDA%20event%20such%20as%20the%20PyTorch%20torch.cuda.Event%20CUDA%20event%20wrapper.\n"
   ]
  },
  {
   "cell_type": "code",
   "execution_count": 28,
   "id": "e825b6d3-268b-4980-9c27-5b0909b507b0",
   "metadata": {},
   "outputs": [],
   "source": [
    "def get_cpu_inference_time_and_test_acc(model, test_loader, test_data_size):\n",
    "    model = model.cuda()\n",
    "    # Wam-up\n",
    "    # Because I sequentially run each cell above, and they includes for loop, I assume the CPU is warmed up\n",
    "    torch.cuda.synchronize()\n",
    "    elapsed_time_ms = 0\n",
    "    start = timer()\n",
    "    # Start Inference Phase\n",
    "    correct = 0\n",
    "    with torch.no_grad():\n",
    "        for imgs, labels in tqdm.tqdm(test_loader):\n",
    "            imgs, labels = imgs.cuda(), labels.cuda()\n",
    "            # imgs, labels = imgs, labels\n",
    "            out = model(imgs)\n",
    "            predictions = out.argmax(dim=1, keepdim=True)  \n",
    "            correct += predictions.eq(labels.view_as(predictions)).sum().item()\n",
    "    accuracy = correct/len(test_loader.dataset)\n",
    "    print(accuracy)\n",
    "    # End of inference Phase\n",
    "    torch.cuda.synchronize()\n",
    "    end = timer()\n",
    "    elapsed_time_ms = (end - start) * 1000\n",
    "    per_sample = elapsed_time_ms/test_data_size\n",
    "    print(\"CPU Inference time is \" + str(per_sample)+ ' ms')\n",
    "    return per_sample, accuracy"
   ]
  },
  {
   "cell_type": "code",
   "execution_count": 29,
   "id": "1a1ce552-0ede-492a-b9e7-823afe7be79e",
   "metadata": {},
   "outputs": [
    {
     "name": "stderr",
     "output_type": "stream",
     "text": [
      "100%|█████████████████████████████████████████| 313/313 [00:14<00:00, 20.90it/s]"
     ]
    },
    {
     "name": "stdout",
     "output_type": "stream",
     "text": [
      "0.9285\n",
      "CPU Inference time is 1.4980145456999936 ms\n"
     ]
    },
    {
     "name": "stderr",
     "output_type": "stream",
     "text": [
      "\n"
     ]
    }
   ],
   "source": [
    "torch.cuda.empty_cache()\n",
    "criterion=torch.nn.CrossEntropyLoss()\n",
    "uncompressed_model.eval()\n",
    "cpu_inf_time, acc = get_cpu_inference_time_and_test_acc(uncompressed_model, test_loader, dataset_info['Total test data'])"
   ]
  },
  {
   "cell_type": "markdown",
   "id": "e4d9f120-d07d-4d60-9736-2e871a19542f",
   "metadata": {},
   "source": [
    "> The accuracy is consistent with the Ref 1:it states that the model accuracy is 92.85%"
   ]
  },
  {
   "cell_type": "code",
   "execution_count": 30,
   "id": "087de26c-655a-4f78-aea7-439b83f397b8",
   "metadata": {},
   "outputs": [
    {
     "name": "stderr",
     "output_type": "stream",
     "text": [
      "100%|█████████████████████████████████████████| 313/313 [00:14<00:00, 21.18it/s]\n"
     ]
    },
    {
     "name": "stdout",
     "output_type": "stream",
     "text": [
      "0.9284\n",
      "CPU Inference time is 1.4778010991999964 ms\n"
     ]
    },
    {
     "name": "stderr",
     "output_type": "stream",
     "text": [
      "100%|█████████████████████████████████████████| 313/313 [00:14<00:00, 21.11it/s]\n"
     ]
    },
    {
     "name": "stdout",
     "output_type": "stream",
     "text": [
      "0.928\n",
      "CPU Inference time is 1.4832306832999962 ms\n"
     ]
    },
    {
     "name": "stderr",
     "output_type": "stream",
     "text": [
      "100%|█████████████████████████████████████████| 313/313 [00:14<00:00, 20.94it/s]\n"
     ]
    },
    {
     "name": "stdout",
     "output_type": "stream",
     "text": [
      "0.9266\n",
      "CPU Inference time is 1.4948030599999926 ms\n"
     ]
    },
    {
     "name": "stderr",
     "output_type": "stream",
     "text": [
      "100%|█████████████████████████████████████████| 313/313 [00:14<00:00, 21.06it/s]\n"
     ]
    },
    {
     "name": "stdout",
     "output_type": "stream",
     "text": [
      "0.8924\n",
      "CPU Inference time is 1.4865433567999957 ms\n"
     ]
    },
    {
     "name": "stderr",
     "output_type": "stream",
     "text": [
      "100%|█████████████████████████████████████████| 313/313 [00:14<00:00, 21.23it/s]\n"
     ]
    },
    {
     "name": "stdout",
     "output_type": "stream",
     "text": [
      "0.126\n",
      "CPU Inference time is 1.474209152200001 ms\n"
     ]
    },
    {
     "name": "stderr",
     "output_type": "stream",
     "text": [
      "100%|█████████████████████████████████████████| 313/313 [00:14<00:00, 20.87it/s]\n"
     ]
    },
    {
     "name": "stdout",
     "output_type": "stream",
     "text": [
      "0.9282\n",
      "CPU Inference time is 1.4999011443000088 ms\n"
     ]
    },
    {
     "name": "stderr",
     "output_type": "stream",
     "text": [
      "100%|█████████████████████████████████████████| 313/313 [00:14<00:00, 20.91it/s]\n"
     ]
    },
    {
     "name": "stdout",
     "output_type": "stream",
     "text": [
      "0.4642\n",
      "CPU Inference time is 1.4973318747999997 ms\n"
     ]
    },
    {
     "name": "stderr",
     "output_type": "stream",
     "text": [
      "100%|█████████████████████████████████████████| 313/313 [00:14<00:00, 20.93it/s]\n"
     ]
    },
    {
     "name": "stdout",
     "output_type": "stream",
     "text": [
      "0.2503\n",
      "CPU Inference time is 1.4959536103000006 ms\n"
     ]
    },
    {
     "name": "stderr",
     "output_type": "stream",
     "text": [
      "100%|█████████████████████████████████████████| 313/313 [00:15<00:00, 20.85it/s]\n"
     ]
    },
    {
     "name": "stdout",
     "output_type": "stream",
     "text": [
      "0.1312\n",
      "CPU Inference time is 1.5016181223999978 ms\n"
     ]
    },
    {
     "name": "stderr",
     "output_type": "stream",
     "text": [
      "100%|█████████████████████████████████████████| 313/313 [00:14<00:00, 21.39it/s]"
     ]
    },
    {
     "name": "stdout",
     "output_type": "stream",
     "text": [
      "0.1\n",
      "CPU Inference time is 1.4631393156999932 ms\n"
     ]
    },
    {
     "name": "stderr",
     "output_type": "stream",
     "text": [
      "\n"
     ]
    }
   ],
   "source": [
    "# \n",
    "compressed_0p1_model.eval()\n",
    "compressed_0p3_model.eval()\n",
    "compressed_0p5_model.eval()\n",
    "compressed_0p7_model.eval()\n",
    "compressed_0p9_model.eval()\n",
    "compressed_0p1_structured_model.eval()\n",
    "compressed_0p3_structured_model.eval()\n",
    "compressed_0p5_structured_model.eval()\n",
    "compressed_0p7_structured_model.eval()\n",
    "compressed_0p9_structured_model.eval()\n",
    "#\n",
    "cpu_inf_time_0p1, acc_0p1 = get_cpu_inference_time_and_test_acc(compressed_0p1_model, test_loader, dataset_info['Total test data'])\n",
    "cpu_inf_time_0p3, acc_0p3 = get_cpu_inference_time_and_test_acc(compressed_0p3_model, test_loader, dataset_info['Total test data'])\n",
    "cpu_inf_time_0p5, acc_0p5 = get_cpu_inference_time_and_test_acc(compressed_0p5_model, test_loader, dataset_info['Total test data'])\n",
    "cpu_inf_time_0p7, acc_0p7 = get_cpu_inference_time_and_test_acc(compressed_0p7_model, test_loader, dataset_info['Total test data'])\n",
    "cpu_inf_time_0p9, acc_0p9 = get_cpu_inference_time_and_test_acc(compressed_0p9_model, test_loader, dataset_info['Total test data'])\n",
    "cpu_inf_time_0p1_structured, acc_0p1_structured = get_cpu_inference_time_and_test_acc(compressed_0p1_structured_model, test_loader, dataset_info['Total test data'])\n",
    "cpu_inf_time_0p3_structured, acc_0p3_structured = get_cpu_inference_time_and_test_acc(compressed_0p3_structured_model, test_loader, dataset_info['Total test data'])\n",
    "cpu_inf_time_0p5_structured, acc_0p5_structured = get_cpu_inference_time_and_test_acc(compressed_0p5_structured_model, test_loader, dataset_info['Total test data'])\n",
    "cpu_inf_time_0p7_structured, acc_0p7_structured = get_cpu_inference_time_and_test_acc(compressed_0p7_structured_model, test_loader, dataset_info['Total test data'])\n",
    "cpu_inf_time_0p9_structured, acc_0p9_structured = get_cpu_inference_time_and_test_acc(compressed_0p9_structured_model, test_loader, dataset_info['Total test data'])"
   ]
  },
  {
   "cell_type": "code",
   "execution_count": 31,
   "id": "6271ded0-d5d1-4022-98bd-f608ad084e94",
   "metadata": {},
   "outputs": [
    {
     "data": {
      "text/html": [
       "<div>\n",
       "<style scoped>\n",
       "    .dataframe tbody tr th:only-of-type {\n",
       "        vertical-align: middle;\n",
       "    }\n",
       "\n",
       "    .dataframe tbody tr th {\n",
       "        vertical-align: top;\n",
       "    }\n",
       "\n",
       "    .dataframe thead th {\n",
       "        text-align: right;\n",
       "    }\n",
       "</style>\n",
       "<table border=\"1\" class=\"dataframe\">\n",
       "  <thead>\n",
       "    <tr style=\"text-align: right;\">\n",
       "      <th></th>\n",
       "      <th>l1_unstructed</th>\n",
       "      <th>l1_structed</th>\n",
       "    </tr>\n",
       "    <tr>\n",
       "      <th>Proportion</th>\n",
       "      <th></th>\n",
       "      <th></th>\n",
       "    </tr>\n",
       "  </thead>\n",
       "  <tbody>\n",
       "    <tr>\n",
       "      <th>0.1</th>\n",
       "      <td>1.477801</td>\n",
       "      <td>1.499901</td>\n",
       "    </tr>\n",
       "    <tr>\n",
       "      <th>0.3</th>\n",
       "      <td>1.483231</td>\n",
       "      <td>1.497332</td>\n",
       "    </tr>\n",
       "    <tr>\n",
       "      <th>0.5</th>\n",
       "      <td>1.494803</td>\n",
       "      <td>1.495954</td>\n",
       "    </tr>\n",
       "    <tr>\n",
       "      <th>0.7</th>\n",
       "      <td>1.486543</td>\n",
       "      <td>1.501618</td>\n",
       "    </tr>\n",
       "    <tr>\n",
       "      <th>0.9</th>\n",
       "      <td>1.474209</td>\n",
       "      <td>1.463139</td>\n",
       "    </tr>\n",
       "  </tbody>\n",
       "</table>\n",
       "</div>"
      ],
      "text/plain": [
       "            l1_unstructed  l1_structed\n",
       "Proportion                            \n",
       "0.1              1.477801     1.499901\n",
       "0.3              1.483231     1.497332\n",
       "0.5              1.494803     1.495954\n",
       "0.7              1.486543     1.501618\n",
       "0.9              1.474209     1.463139"
      ]
     },
     "metadata": {},
     "output_type": "display_data"
    }
   ],
   "source": [
    "cpu_data = {'l1_unstructed': [cpu_inf_time_0p1, \n",
    "                              cpu_inf_time_0p3,\n",
    "                              cpu_inf_time_0p5,\n",
    "                              cpu_inf_time_0p7,\n",
    "                              cpu_inf_time_0p9],\n",
    "           'l1_structed': [cpu_inf_time_0p1_structured,\n",
    "                            cpu_inf_time_0p3_structured,\n",
    "                            cpu_inf_time_0p5_structured,\n",
    "                            cpu_inf_time_0p7_structured,\n",
    "                            cpu_inf_time_0p9_structured],\n",
    "           'Proportion': ['0.1','0.3','0.5','0.7','0.9']}\n",
    "cpu_df = pd.DataFrame.from_dict(cpu_data, orient='columns').set_index('Proportion')\n",
    "display(cpu_df)"
   ]
  },
  {
   "cell_type": "code",
   "execution_count": 33,
   "id": "f703c214-c953-4b36-8b6d-b43a8a7491b5",
   "metadata": {},
   "outputs": [
    {
     "data": {
      "text/html": [
       "<div>\n",
       "<style scoped>\n",
       "    .dataframe tbody tr th:only-of-type {\n",
       "        vertical-align: middle;\n",
       "    }\n",
       "\n",
       "    .dataframe tbody tr th {\n",
       "        vertical-align: top;\n",
       "    }\n",
       "\n",
       "    .dataframe thead th {\n",
       "        text-align: right;\n",
       "    }\n",
       "</style>\n",
       "<table border=\"1\" class=\"dataframe\">\n",
       "  <thead>\n",
       "    <tr style=\"text-align: right;\">\n",
       "      <th></th>\n",
       "      <th>l1_unstructed</th>\n",
       "      <th>l1_structed</th>\n",
       "    </tr>\n",
       "    <tr>\n",
       "      <th>Proportion</th>\n",
       "      <th></th>\n",
       "      <th></th>\n",
       "    </tr>\n",
       "  </thead>\n",
       "  <tbody>\n",
       "    <tr>\n",
       "      <th>0.1</th>\n",
       "      <td>0.9284</td>\n",
       "      <td>0.9282</td>\n",
       "    </tr>\n",
       "    <tr>\n",
       "      <th>0.3</th>\n",
       "      <td>0.9280</td>\n",
       "      <td>0.4642</td>\n",
       "    </tr>\n",
       "    <tr>\n",
       "      <th>0.5</th>\n",
       "      <td>0.9266</td>\n",
       "      <td>0.2503</td>\n",
       "    </tr>\n",
       "    <tr>\n",
       "      <th>0.7</th>\n",
       "      <td>0.8924</td>\n",
       "      <td>0.1312</td>\n",
       "    </tr>\n",
       "    <tr>\n",
       "      <th>0.9</th>\n",
       "      <td>0.1260</td>\n",
       "      <td>0.1000</td>\n",
       "    </tr>\n",
       "  </tbody>\n",
       "</table>\n",
       "</div>"
      ],
      "text/plain": [
       "            l1_unstructed  l1_structed\n",
       "Proportion                            \n",
       "0.1                0.9284       0.9282\n",
       "0.3                0.9280       0.4642\n",
       "0.5                0.9266       0.2503\n",
       "0.7                0.8924       0.1312\n",
       "0.9                0.1260       0.1000"
      ]
     },
     "metadata": {},
     "output_type": "display_data"
    }
   ],
   "source": [
    "acc_data = {'l1_unstructed': [acc_0p1, \n",
    "                              acc_0p3,\n",
    "                              acc_0p5,\n",
    "                              acc_0p7,\n",
    "                              acc_0p9],\n",
    "           'l1_structed': [acc_0p1_structured,\n",
    "                            acc_0p3_structured,\n",
    "                            acc_0p5_structured,\n",
    "                            acc_0p7_structured,\n",
    "                            acc_0p9_structured],\n",
    "           'Proportion': ['0.1','0.3','0.5','0.7','0.9']}\n",
    "acc_df = pd.DataFrame.from_dict(acc_data, orient='columns').set_index('Proportion')\n",
    "display(acc_df)"
   ]
  },
  {
   "cell_type": "code",
   "execution_count": null,
   "id": "c6ddaa37-6d71-449a-a2bb-77f792c88fd4",
   "metadata": {},
   "outputs": [],
   "source": []
  }
 ],
 "metadata": {
  "kernelspec": {
   "display_name": "Python [conda env:dl] *",
   "language": "python",
   "name": "conda-env-dl-py"
  },
  "language_info": {
   "codemirror_mode": {
    "name": "ipython",
    "version": 3
   },
   "file_extension": ".py",
   "mimetype": "text/x-python",
   "name": "python",
   "nbconvert_exporter": "python",
   "pygments_lexer": "ipython3",
   "version": "3.9.12"
  }
 },
 "nbformat": 4,
 "nbformat_minor": 5
}
